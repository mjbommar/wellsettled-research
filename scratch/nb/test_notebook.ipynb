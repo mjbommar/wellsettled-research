{
 "metadata": {
  "name": "",
  "signature": "sha256:623d2f986550dd3227fd0b7a79b0e58b1d1c0fefea31a15f45c1c4e3d5728a81"
 },
 "nbformat": 3,
 "nbformat_minor": 0,
 "worksheets": [
  {
   "cells": [
    {
     "cell_type": "code",
     "collapsed": false,
     "input": [
      "# Import test\n",
      "import wsr.data.scotus"
     ],
     "language": "python",
     "metadata": {},
     "outputs": [],
     "prompt_number": 1
    },
    {
     "cell_type": "code",
     "collapsed": false,
     "input": [
      "# Create a SCOTUS dataset\n",
      "scotus = wsr.data.scotus.SCOTUS()"
     ],
     "language": "python",
     "metadata": {},
     "outputs": [],
     "prompt_number": 2
    },
    {
     "cell_type": "code",
     "collapsed": false,
     "input": [],
     "language": "python",
     "metadata": {},
     "outputs": []
    }
   ],
   "metadata": {}
  }
 ]
}