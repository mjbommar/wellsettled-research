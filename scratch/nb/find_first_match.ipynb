{
 "cells": [
  {
   "cell_type": "code",
   "execution_count": 87,
   "metadata": {
    "collapsed": true
   },
   "outputs": [],
   "source": [
    "# Imports\n",
    "import dateutil.parser\n",
    "import matplotlib.pyplot as plt\n",
    "import pandas\n",
    "import sys"
   ]
  },
  {
   "cell_type": "code",
   "execution_count": 88,
   "metadata": {
    "collapsed": false
   },
   "outputs": [],
   "source": [
    "# Read raw sentence data\n",
    "sentence_data = pandas.read_table('/data/workspace/wellsettled-research/scratch/results/ws_match_sentences.txt',\n",
    "                  sep='|',\n",
    "                  header=None)\n",
    "sentence_data.columns = ['nan', 'sentence_id', 'case_caption', 'case_date', 'sentence']\n",
    "del sentence_data['nan']\n",
    "\n",
    "# Read sentence match data\n",
    "sentence_match_data = pandas.read_csv('/data/workspace/wellsettled-research/scratch/results/ws_matches.csv',\n",
    "                                      index_col=0)\n",
    "                                      \n",
    "sentence_match_data.columns = ['sentence_id', 'case_caption', 'case_date', 'phrase_id']\n",
    "\n",
    "# Read phrase data\n",
    "phrase_data = pandas.read_table('/data/workspace/wellsettled-research/scratch/results/ws_phrase_mapping.csv',\n",
    "                                header=None)\n",
    "phrase_data.columns = ['phrase_id', 'phrase_stem']"
   ]
  },
  {
   "cell_type": "code",
   "execution_count": 89,
   "metadata": {
    "collapsed": false
   },
   "outputs": [
    {
     "data": {
      "text/html": [
       "<div style=\"max-height:1000px;max-width:1500px;overflow:auto;\">\n",
       "<table border=\"1\" class=\"dataframe\">\n",
       "  <thead>\n",
       "    <tr style=\"text-align: right;\">\n",
       "      <th></th>\n",
       "      <th>sentence_id</th>\n",
       "      <th>case_caption</th>\n",
       "      <th>case_date</th>\n",
       "      <th>sentence</th>\n",
       "    </tr>\n",
       "  </thead>\n",
       "  <tbody>\n",
       "    <tr>\n",
       "      <th>0</th>\n",
       "      <td> 5d8c2fa4-4260-49e1-8ef1-e8d40c9339b2</td>\n",
       "      <td>            PENNELL v. SAN JOSE, 485 U.S. 1 (1988)</td>\n",
       "      <td> 1988-02-24</td>\n",
       "      <td> As appellants point out, \"\"[i]t is axiomatic t...</td>\n",
       "    </tr>\n",
       "    <tr>\n",
       "      <th>1</th>\n",
       "      <td> 02da221e-2b90-4a4e-90fe-ebc010f30b2d</td>\n",
       "      <td>            EDENFIELD v. FANE, 507 U.S. 761 (1993)</td>\n",
       "      <td> 1993-04-26</td>\n",
       "      <td> It is well established that \"\"[t]he party seek...</td>\n",
       "    </tr>\n",
       "    <tr>\n",
       "      <th>2</th>\n",
       "      <td> 26fc841a-e7d3-4377-8b01-2a7dc461cc35</td>\n",
       "      <td> LEWIS v. CITY OF NEW ORLEANS, 415 U.S. 130 (1974)</td>\n",
       "      <td> 1974-02-20</td>\n",
       "      <td> There are certain well-defined and narrowly li...</td>\n",
       "    </tr>\n",
       "    <tr>\n",
       "      <th>3</th>\n",
       "      <td> 7e7a37cc-01a4-4756-9c82-835c227cda64</td>\n",
       "      <td>            WEEKS v. ANGELONE, 528 U.S. 225 (2000)</td>\n",
       "      <td> 2000-01-19</td>\n",
       "      <td> A jury is presumed to follow its instructions....</td>\n",
       "    </tr>\n",
       "    <tr>\n",
       "      <th>4</th>\n",
       "      <td> 2b436cbc-b29f-42ae-b7a9-4bdffb7d69c1</td>\n",
       "      <td> BOARD OF TRUSTEES, UNIVERSITY OF ALABAMA v. GA...</td>\n",
       "      <td> 2001-02-21</td>\n",
       "      <td> The ultimate guarantee of the Eleventh Amendme...</td>\n",
       "    </tr>\n",
       "  </tbody>\n",
       "</table>\n",
       "</div>"
      ],
      "text/plain": [
       "                            sentence_id  \\\n",
       "0  5d8c2fa4-4260-49e1-8ef1-e8d40c9339b2   \n",
       "1  02da221e-2b90-4a4e-90fe-ebc010f30b2d   \n",
       "2  26fc841a-e7d3-4377-8b01-2a7dc461cc35   \n",
       "3  7e7a37cc-01a4-4756-9c82-835c227cda64   \n",
       "4  2b436cbc-b29f-42ae-b7a9-4bdffb7d69c1   \n",
       "\n",
       "                                        case_caption   case_date  \\\n",
       "0             PENNELL v. SAN JOSE, 485 U.S. 1 (1988)  1988-02-24   \n",
       "1             EDENFIELD v. FANE, 507 U.S. 761 (1993)  1993-04-26   \n",
       "2  LEWIS v. CITY OF NEW ORLEANS, 415 U.S. 130 (1974)  1974-02-20   \n",
       "3             WEEKS v. ANGELONE, 528 U.S. 225 (2000)  2000-01-19   \n",
       "4  BOARD OF TRUSTEES, UNIVERSITY OF ALABAMA v. GA...  2001-02-21   \n",
       "\n",
       "                                            sentence  \n",
       "0  As appellants point out, \"\"[i]t is axiomatic t...  \n",
       "1  It is well established that \"\"[t]he party seek...  \n",
       "2  There are certain well-defined and narrowly li...  \n",
       "3  A jury is presumed to follow its instructions....  \n",
       "4  The ultimate guarantee of the Eleventh Amendme...  "
      ]
     },
     "execution_count": 89,
     "metadata": {},
     "output_type": "execute_result"
    }
   ],
   "source": [
    "sentence_data.head()"
   ]
  },
  {
   "cell_type": "code",
   "execution_count": 90,
   "metadata": {
    "collapsed": false
   },
   "outputs": [
    {
     "data": {
      "text/html": [
       "<div style=\"max-height:1000px;max-width:1500px;overflow:auto;\">\n",
       "<table border=\"1\" class=\"dataframe\">\n",
       "  <thead>\n",
       "    <tr style=\"text-align: right;\">\n",
       "      <th></th>\n",
       "      <th>sentence_id</th>\n",
       "      <th>case_caption</th>\n",
       "      <th>case_date</th>\n",
       "      <th>phrase_id</th>\n",
       "    </tr>\n",
       "  </thead>\n",
       "  <tbody>\n",
       "    <tr>\n",
       "      <th>0</th>\n",
       "      <td> 5d8c2fa4-4260-49e1-8ef1-e8d40c9339b2</td>\n",
       "      <td>            PENNELL v. SAN JOSE, 485 U.S. 1 (1988)</td>\n",
       "      <td> 1988-02-24</td>\n",
       "      <td> 7551</td>\n",
       "    </tr>\n",
       "    <tr>\n",
       "      <th>1</th>\n",
       "      <td> 02da221e-2b90-4a4e-90fe-ebc010f30b2d</td>\n",
       "      <td>            EDENFIELD v. FANE, 507 U.S. 761 (1993)</td>\n",
       "      <td> 1993-04-26</td>\n",
       "      <td> 3196</td>\n",
       "    </tr>\n",
       "    <tr>\n",
       "      <th>2</th>\n",
       "      <td> 26fc841a-e7d3-4377-8b01-2a7dc461cc35</td>\n",
       "      <td> LEWIS v. CITY OF NEW ORLEANS, 415 U.S. 130 (1974)</td>\n",
       "      <td> 1974-02-20</td>\n",
       "      <td> 2069</td>\n",
       "    </tr>\n",
       "    <tr>\n",
       "      <th>3</th>\n",
       "      <td> 7e7a37cc-01a4-4756-9c82-835c227cda64</td>\n",
       "      <td>            WEEKS v. ANGELONE, 528 U.S. 225 (2000)</td>\n",
       "      <td> 2000-01-19</td>\n",
       "      <td> 6212</td>\n",
       "    </tr>\n",
       "    <tr>\n",
       "      <th>4</th>\n",
       "      <td> 2b436cbc-b29f-42ae-b7a9-4bdffb7d69c1</td>\n",
       "      <td> BOARD OF TRUSTEES, UNIVERSITY OF ALABAMA v. GA...</td>\n",
       "      <td> 2001-02-21</td>\n",
       "      <td> 3692</td>\n",
       "    </tr>\n",
       "  </tbody>\n",
       "</table>\n",
       "</div>"
      ],
      "text/plain": [
       "                            sentence_id  \\\n",
       "0  5d8c2fa4-4260-49e1-8ef1-e8d40c9339b2   \n",
       "1  02da221e-2b90-4a4e-90fe-ebc010f30b2d   \n",
       "2  26fc841a-e7d3-4377-8b01-2a7dc461cc35   \n",
       "3  7e7a37cc-01a4-4756-9c82-835c227cda64   \n",
       "4  2b436cbc-b29f-42ae-b7a9-4bdffb7d69c1   \n",
       "\n",
       "                                        case_caption   case_date  phrase_id  \n",
       "0             PENNELL v. SAN JOSE, 485 U.S. 1 (1988)  1988-02-24       7551  \n",
       "1             EDENFIELD v. FANE, 507 U.S. 761 (1993)  1993-04-26       3196  \n",
       "2  LEWIS v. CITY OF NEW ORLEANS, 415 U.S. 130 (1974)  1974-02-20       2069  \n",
       "3             WEEKS v. ANGELONE, 528 U.S. 225 (2000)  2000-01-19       6212  \n",
       "4  BOARD OF TRUSTEES, UNIVERSITY OF ALABAMA v. GA...  2001-02-21       3692  "
      ]
     },
     "execution_count": 90,
     "metadata": {},
     "output_type": "execute_result"
    }
   ],
   "source": [
    "sentence_match_data.head()"
   ]
  },
  {
   "cell_type": "code",
   "execution_count": 92,
   "metadata": {
    "collapsed": false
   },
   "outputs": [
    {
     "data": {
      "text/html": [
       "<div style=\"max-height:1000px;max-width:1500px;overflow:auto;\">\n",
       "<table border=\"1\" class=\"dataframe\">\n",
       "  <thead>\n",
       "    <tr style=\"text-align: right;\">\n",
       "      <th></th>\n",
       "      <th>phrase_id</th>\n",
       "      <th>phrase_stem</th>\n",
       "    </tr>\n",
       "  </thead>\n",
       "  <tbody>\n",
       "    <tr>\n",
       "      <th>0</th>\n",
       "      <td> 0</td>\n",
       "      <td> defend seek revers basi insuffici evid swim up...</td>\n",
       "    </tr>\n",
       "    <tr>\n",
       "      <th>1</th>\n",
       "      <td> 1</td>\n",
       "      <td>                         right assist counsel waiv</td>\n",
       "    </tr>\n",
       "    <tr>\n",
       "      <th>2</th>\n",
       "      <td> 2</td>\n",
       "      <td> must consid state prior art shown refer employ...</td>\n",
       "    </tr>\n",
       "    <tr>\n",
       "      <th>3</th>\n",
       "      <td> 3</td>\n",
       "      <td>          privat properti land extend low-wat mark</td>\n",
       "    </tr>\n",
       "    <tr>\n",
       "      <th>4</th>\n",
       "      <td> 4</td>\n",
       "      <td> order warrant find neglig proxim caus injuri m...</td>\n",
       "    </tr>\n",
       "  </tbody>\n",
       "</table>\n",
       "</div>"
      ],
      "text/plain": [
       "   phrase_id                                        phrase_stem\n",
       "0          0  defend seek revers basi insuffici evid swim up...\n",
       "1          1                          right assist counsel waiv\n",
       "2          2  must consid state prior art shown refer employ...\n",
       "3          3           privat properti land extend low-wat mark\n",
       "4          4  order warrant find neglig proxim caus injuri m..."
      ]
     },
     "execution_count": 92,
     "metadata": {},
     "output_type": "execute_result"
    }
   ],
   "source": [
    "phrase_data.head()"
   ]
  },
  {
   "cell_type": "code",
   "execution_count": 94,
   "metadata": {
    "collapsed": false
   },
   "outputs": [],
   "source": [
    "# to_date\n",
    "def to_date(value):\n",
    "    try:\n",
    "        return dateutil.parser.parse(value).date()\n",
    "    except:\n",
    "        return None\n",
    "\n",
    "# Merge all data\n",
    "merge_data = sentence_match_data.merge(phrase_data, on='phrase_id').merge(sentence_data, on='sentence_id')\n",
    "merge_data = merge_data[['sentence_id', 'case_caption_x', 'case_date_x', 'phrase_id', 'phrase_stem', 'sentence']]\n",
    "merge_data.columns = ['sentence_id', 'case_caption', 'case_date', 'phrase_id', 'phrase_stem', 'sentence']\n",
    "merge_data['case_date'] = merge_data['case_date'].apply(to_date)"
   ]
  },
  {
   "cell_type": "code",
   "execution_count": 99,
   "metadata": {
    "collapsed": false
   },
   "outputs": [],
   "source": [
    "# Now sort/check\n",
    "merge_data.sort(columns=['phrase_id', 'case_date'], ascending=True, inplace=True)\n",
    "merge_data.to_csv('merged_wsr_matches.csv')"
   ]
  },
  {
   "cell_type": "code",
   "execution_count": 67,
   "metadata": {
    "collapsed": true
   },
   "outputs": [],
   "source": [
    "def check_sentence_match(stems):\n",
    "    \"\"\"Check if the sentence stem sequence matches our desired\n",
    "    patterns.\"\"\"\n",
    "\n",
    "    # Check minimum length\n",
    "    if len(stems) < 3:\n",
    "        return False\n",
    "\n",
    "    # Require initial \"it\"\n",
    "    if stems[0] != \"it\":\n",
    "        return False\n",
    "\n",
    "    # Check for \"well*\"\n",
    "    if not stems[1].startswith(u'well'):\n",
    "        return False\n",
    "\n",
    "    # Now handle hyphen vs. space\n",
    "    if '-' in stems[1]:\n",
    "        tokens = stems[1].split(u'-')\n",
    "        if tokens[1] in [u'settl', u'establish']:\n",
    "            return True\n",
    "    elif stems[2] in [u'settl', u'establish']:\n",
    "        return True\n",
    "    else:\n",
    "        return False"
   ]
  },
  {
   "cell_type": "code",
   "execution_count": 100,
   "metadata": {
    "collapsed": true
   },
   "outputs": [],
   "source": [
    "# Handle imports\n",
    "sys.path.append('/data/workspace/wellsettled-research/src/')\n",
    "from wsr.process.stem import process_sentence\n",
    "\n",
    "# Define nested function for sentence\n",
    "def is_sentence_ws(sentence):\n",
    "    return check_sentence_match(process_sentence(sentence.decode(\"utf-8\")))\n",
    "\n",
    "# Do it live\n",
    "merge_data['is_ws'] = merge_data['sentence'].apply(is_sentence_ws)"
   ]
  },
  {
   "cell_type": "code",
   "execution_count": 109,
   "metadata": {
    "collapsed": true
   },
   "outputs": [],
   "source": [
    "# Get the first well-settled instances\n",
    "first_ws_instances = merge_data.loc[merge_data['is_ws']==True].groupby('phrase_id').head(1)\n",
    "first_ws_instances.to_csv('first_ws_instances.csv')\n",
    "first_ws_id = first_ws_instances.index"
   ]
  },
  {
   "cell_type": "code",
   "execution_count": 112,
   "metadata": {
    "collapsed": false
   },
   "outputs": [],
   "source": [
    "# Update original merge DF\n",
    "merge_data.loc[:, 'is_first_ws'] = False\n",
    "merge_data.ix[first_ws_id, 'is_first_ws'] = True\n",
    "merge_data = merge_data[['sentence_id', 'phrase_id', 'case_date', 'is_ws', 'is_first_ws', 'case_caption', 'phrase_stem', 'sentence']]\n",
    "merge_data.to_csv('merged_wsr_matches.csv')"
   ]
  },
  {
   "cell_type": "code",
   "execution_count": 113,
   "metadata": {
    "collapsed": false
   },
   "outputs": [
    {
     "data": {
      "text/html": [
       "<div style=\"max-height:1000px;max-width:1500px;overflow:auto;\">\n",
       "<table border=\"1\" class=\"dataframe\">\n",
       "  <thead>\n",
       "    <tr style=\"text-align: right;\">\n",
       "      <th></th>\n",
       "      <th>sentence_id</th>\n",
       "      <th>phrase_id</th>\n",
       "      <th>case_date</th>\n",
       "      <th>is_ws</th>\n",
       "      <th>is_first_ws</th>\n",
       "      <th>case_caption</th>\n",
       "      <th>phrase_stem</th>\n",
       "      <th>sentence</th>\n",
       "    </tr>\n",
       "  </thead>\n",
       "  <tbody>\n",
       "    <tr>\n",
       "      <th>63676</th>\n",
       "      <td> 5548d8e7-8305-4ccc-9b58-997f9692114e</td>\n",
       "      <td> 0</td>\n",
       "      <td> 1997-08-15</td>\n",
       "      <td>  True</td>\n",
       "      <td>  True</td>\n",
       "      <td> U.S. v. MULDERIG, 120 F.3d 534 (5th Cir. 1997)</td>\n",
       "      <td> defend seek revers basi insuffici evid swim up...</td>\n",
       "      <td> It is by now well settled that a defendant see...</td>\n",
       "    </tr>\n",
       "    <tr>\n",
       "      <th>63678</th>\n",
       "      <td> 36fdb9a7-938d-4378-88db-1f11e89caafa</td>\n",
       "      <td> 0</td>\n",
       "      <td> 1998-03-09</td>\n",
       "      <td> False</td>\n",
       "      <td> False</td>\n",
       "      <td>    U.S. v. CIHAK, 137 F.3d 252 (5th Cir. 1998)</td>\n",
       "      <td> defend seek revers basi insuffici evid swim up...</td>\n",
       "      <td> However, \"\"[i]t is by now well settled that a ...</td>\n",
       "    </tr>\n",
       "    <tr>\n",
       "      <th>63680</th>\n",
       "      <td> 7e7c69f4-fa65-4e04-858e-972fcfdab309</td>\n",
       "      <td> 0</td>\n",
       "      <td> 2005-04-06</td>\n",
       "      <td>  True</td>\n",
       "      <td> False</td>\n",
       "      <td>   U.S. v. HOLMES, 406 F.3d 337 (5th Cir. 2005)</td>\n",
       "      <td> defend seek revers basi insuffici evid swim up...</td>\n",
       "      <td> It is by now well-settled that a defendant see...</td>\n",
       "    </tr>\n",
       "    <tr>\n",
       "      <th>63677</th>\n",
       "      <td> 9472f1b6-4baa-402a-806f-62f8f85907a1</td>\n",
       "      <td> 0</td>\n",
       "      <td> 2009-06-10</td>\n",
       "      <td> False</td>\n",
       "      <td> False</td>\n",
       "      <td> U.S. v. STEPHENS, 571 F.3d 401 (5th Cir. 2009)</td>\n",
       "      <td> defend seek revers basi insuffici evid swim up...</td>\n",
       "      <td> Bartholomew challenges the sufficiency of the ...</td>\n",
       "    </tr>\n",
       "    <tr>\n",
       "      <th>63679</th>\n",
       "      <td> 2e56a55e-6160-461e-8da5-0e2880e4b97d</td>\n",
       "      <td> 0</td>\n",
       "      <td> 2011-09-07</td>\n",
       "      <td> False</td>\n",
       "      <td> False</td>\n",
       "      <td>  U.S. v. AGUILAR, 10-50817 (5th Cir. 9-7-2011)</td>\n",
       "      <td> defend seek revers basi insuffici evid swim up...</td>\n",
       "      <td> As a result, \"\"`a defendant seeking reversal o...</td>\n",
       "    </tr>\n",
       "  </tbody>\n",
       "</table>\n",
       "</div>"
      ],
      "text/plain": [
       "                                sentence_id  phrase_id   case_date  is_ws  \\\n",
       "63676  5548d8e7-8305-4ccc-9b58-997f9692114e          0  1997-08-15   True   \n",
       "63678  36fdb9a7-938d-4378-88db-1f11e89caafa          0  1998-03-09  False   \n",
       "63680  7e7c69f4-fa65-4e04-858e-972fcfdab309          0  2005-04-06   True   \n",
       "63677  9472f1b6-4baa-402a-806f-62f8f85907a1          0  2009-06-10  False   \n",
       "63679  2e56a55e-6160-461e-8da5-0e2880e4b97d          0  2011-09-07  False   \n",
       "\n",
       "      is_first_ws                                    case_caption  \\\n",
       "63676        True  U.S. v. MULDERIG, 120 F.3d 534 (5th Cir. 1997)   \n",
       "63678       False     U.S. v. CIHAK, 137 F.3d 252 (5th Cir. 1998)   \n",
       "63680       False    U.S. v. HOLMES, 406 F.3d 337 (5th Cir. 2005)   \n",
       "63677       False  U.S. v. STEPHENS, 571 F.3d 401 (5th Cir. 2009)   \n",
       "63679       False   U.S. v. AGUILAR, 10-50817 (5th Cir. 9-7-2011)   \n",
       "\n",
       "                                             phrase_stem  \\\n",
       "63676  defend seek revers basi insuffici evid swim up...   \n",
       "63678  defend seek revers basi insuffici evid swim up...   \n",
       "63680  defend seek revers basi insuffici evid swim up...   \n",
       "63677  defend seek revers basi insuffici evid swim up...   \n",
       "63679  defend seek revers basi insuffici evid swim up...   \n",
       "\n",
       "                                                sentence  \n",
       "63676  It is by now well settled that a defendant see...  \n",
       "63678  However, \"\"[i]t is by now well settled that a ...  \n",
       "63680  It is by now well-settled that a defendant see...  \n",
       "63677  Bartholomew challenges the sufficiency of the ...  \n",
       "63679  As a result, \"\"`a defendant seeking reversal o...  "
      ]
     },
     "execution_count": 113,
     "metadata": {},
     "output_type": "execute_result"
    }
   ],
   "source": [
    "merge_data.head()"
   ]
  }
 ],
 "metadata": {
  "kernelspec": {
   "display_name": "IPython (Python 2)",
   "name": "python2"
  },
  "language_info": {
   "codemirror_mode": {
    "name": "ipython",
    "version": 2
   },
   "file_extension": ".py",
   "mimetype": "text/x-python",
   "name": "python",
   "nbconvert_exporter": "python",
   "pygments_lexer": "ipython2",
   "version": "2.7.3"
  },
  "signature": "sha256:a008e78a029f9f06dcde9629ef779bd5e814725a845c5166bc3336f2f14f5ece"
 },
 "nbformat": 4,
 "nbformat_minor": 0
}